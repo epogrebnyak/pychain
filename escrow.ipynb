{
  "nbformat": 4,
  "nbformat_minor": 0,
  "metadata": {
    "colab": {
      "provenance": [],
      "include_colab_link": true
    },
    "kernelspec": {
      "name": "python3",
      "display_name": "Python 3"
    },
    "language_info": {
      "name": "python"
    }
  },
  "cells": [
    {
      "cell_type": "markdown",
      "metadata": {
        "id": "view-in-github",
        "colab_type": "text"
      },
      "source": [
        "<a href=\"https://colab.research.google.com/github/epogrebnyak/pychain/blob/main/escrow.ipynb\" target=\"_parent\"><img src=\"https://colab.research.google.com/assets/colab-badge.svg\" alt=\"Open In Colab\"/></a>"
      ]
    },
    {
      "cell_type": "code",
      "execution_count": 90,
      "metadata": {
        "id": "QDZpPzgWLAcL"
      },
      "outputs": [],
      "source": [
        "from dataclasses import dataclass\n",
        "from uuid import uuid4\n",
        "from typing import Dict, TypedDict, List\n",
        "from collections import UserDict\n",
        "\n",
        "Amount = int\n",
        "Address = str\n",
        "\n",
        "def uuid(digits=5) -> Address:\n",
        "  \"\"\"Return short UUID (like 'az4s'). Shortened for readability.\"\"\"\n",
        "  return str(uuid4())[:digits]\n",
        "\n",
        "class Contract:\n",
        "  pass\n",
        "\n",
        "@dataclass\n",
        "class Content:\n",
        "  balance: Amount = 0\n",
        "  contract: Contract | None = None\n",
        "\n",
        "def genesis() -> \"Chain\":\n",
        "  \"\"\"Return empty chain ready to be filled.\"\"\"\n",
        "  return Chain(data={})\n",
        "\n",
        "@dataclass\n",
        "class Chain:\n",
        "   data: Dict[Address, Content]\n",
        "\n",
        "   def __getitem__(self, key: str) -> Content:\n",
        "      return self.data[key]\n",
        "\n",
        "   def add_wallet(self, balance=0) -> Address:\n",
        "      address = uuid()\n",
        "      self.data[address] = Content(balance, None)\n",
        "      return address\n",
        "\n",
        "   def add_contract(self, contract: Contract) -> Address:\n",
        "      address = uuid()\n",
        "      self.data[address] = Content(0, contract)\n",
        "      return address\n",
        "\n",
        "   def addresses(self):\n",
        "      return list(self.data.keys())\n",
        "\n",
        "   def transfer(self, sender: Address, receiver: Address, amount: Amount):\n",
        "      assert self.data[sender].balance >= amount\n",
        "      self.data[receiver].balance += amount\n",
        "      self.data[sender].balance -= amount\n",
        "\n",
        "@dataclass\n",
        "class Escrow(Contract):\n",
        "  payer: Address\n",
        "  deposits: Dict[Address, Amount]\n",
        "  allow_withdraw: bool = False\n",
        "\n",
        "  def transfer(self, sender: Address, receiver: Address, amount: Amount):\n",
        "      assert(sender in self.deposits.keys())\n",
        "      assert(amount <= self.deposits[sender])\n",
        "      self.deposits[sender] = self.deposits[sender] - amount\n",
        "      # reciever may be a new address, not previoiusly in self.deposits\n",
        "      self.deposits[receiver] = self.deposits.get(receiver, 0) + amount\n",
        "      return True\n",
        "\n",
        "  def release_funds(self, payer: Address):\n",
        "      # release funds logic can be extended, right now everything is at\n",
        "      # discretion of payer\n",
        "      if payer == self.payer:\n",
        "         self.allow_withdraw = True\n",
        "         return True\n",
        "      return False\n",
        "\n",
        "  # FIXME: not the greatest way that we have to provide 'this_contract' here,\n",
        "  #        consider it a temp fix.\n",
        "  def withdraw(self, chain: Chain, this_contract: Address, payee: Address):\n",
        "      assert(payee in self.deposits.keys())\n",
        "      amount = self.deposits[payee]\n",
        "      chain.transfer(this_contract, payee, amount)\n",
        "      self.deposits[payee] = 0\n",
        "      return True\n",
        "\n",
        "class ChainError(ValueError):\n",
        "      pass\n",
        "\n",
        "def assert_has_funds(chain, address, amount) -> bool:\n",
        "      if chain[address].balance >= amount:\n",
        "          return True\n",
        "      raise ChainError(f\"Insufficient funds at {address}, cannot transfer {amount}.\")\n",
        "\n",
        "def create_escrow(chain: Chain, sender: Address, contractor: Address, amount: Address) -> Escrow:\n",
        "      assert_has_funds(chain, sender, amount)\n",
        "      escrow = Escrow(payer=sender, deposits={contractor: amount})\n",
        "      contract_address = chain.add_contract(escrow)\n",
        "      chain.transfer(sender, contract_address, amount)\n",
        "      return contract_address"
      ]
    },
    {
      "cell_type": "code",
      "source": [
        "from typing import Callable, Tuple\n",
        "\n",
        "def maxlen(xs: List[str]) -> int:\n",
        "    return max(map(len, xs))\n",
        "\n",
        "def rfill(width, text):\n",
        "    return text.rjust(width)\n",
        "\n",
        "def lfill(width, text):\n",
        "    return text.ljust(width)\n",
        "\n",
        "def fill(strings, adjust: Callable):\n",
        "    width = maxlen(strings)\n",
        "    return [adjust(s, width) for s in strings]\n",
        "\n",
        "@dataclass\n",
        "class Column:\n",
        "  header: str\n",
        "  items: List[str]\n",
        "\n",
        "  @property\n",
        "  def width(self):\n",
        "    return max(maxlen(self.items), len(self.header))\n",
        "\n",
        "  @property\n",
        "  def underline(self):\n",
        "    \"\"\"Header underline string.\"\"\"\n",
        "    return \"-\" * self.width\n",
        "\n",
        "  def printable(self):\n",
        "    return PrintableColumn([self.header, self.underline] + self.items, self.width)\n",
        "\n",
        "def align_right(width, strings):\n",
        "  return [s.strip().rjust(width) for s in strings]\n",
        "\n",
        "def align_left(width, strings):\n",
        "  return [s.strip().ljust(width) for s in strings]\n",
        "\n",
        "@dataclass\n",
        "class PrintableColumn:\n",
        "  items: List[str]\n",
        "  width: int\n",
        "\n",
        "  def align_left(self):\n",
        "    return PrintableColumn(align_left(self.width, self.items), self.width)\n",
        "\n",
        "  def align_right(self):\n",
        "    return PrintableColumn(align_right(self.width, self.items), self.width)\n",
        "\n",
        "  def __iter__(self):\n",
        "        yield from self.items\n",
        "\n",
        "def column(header, items):\n",
        "  return Column(header, list(items)).printable().align_left()\n",
        "\n",
        "def show_contract(content: Content) -> str:\n",
        "    if (k := content.contract) is None:\n",
        "       return \"\"\n",
        "    return str(k)\n",
        "\n",
        "@dataclass\n",
        "class Table:\n",
        "  columns: List[Column]\n",
        "\n",
        "  def purge(self):\n",
        "    last_column = self.columns[-1]\n",
        "    last_column.items[1] = \"-\" * len(last_column.items[0].strip())\n",
        "    return self\n",
        "\n",
        "  def print(self):\n",
        "    for row in zip(*self.purge().columns):\n",
        "      print(*row, sep=\" | \")\n",
        "\n",
        "@dataclass\n",
        "class Viewer:\n",
        "   chain: Chain\n",
        "   who_is_who: Dict\n",
        "   headers: Tuple[str] = (\"UUID\", \"Role\", \"Balance\", \"Contract\")\n",
        "\n",
        "   def print(self):\n",
        "      data = self.chain.data\n",
        "      values = data.values()\n",
        "      addresses = column(self.headers[0], data.keys())\n",
        "      names = column(self.headers[1],\n",
        "                     [self.who_is_who.get(address, \"\").capitalize() for address in data.keys()]\n",
        "                     )\n",
        "      amounts = column(self.headers[2], [str(v.balance) for v in values])\n",
        "      contracts = column(self.headers[3], [show_contract(v) for v in values])\n",
        "      t = Table([addresses, names, amounts.align_right(), contracts])\n",
        "      t.print()\n",
        "\n"
      ],
      "metadata": {
        "id": "tVOvDLZDyWLO"
      },
      "execution_count": 164,
      "outputs": []
    },
    {
      "cell_type": "code",
      "source": [
        "column(\"abc\", [\"-----\"])"
      ],
      "metadata": {
        "id": "plGJUKdHUatn",
        "outputId": "aa398d48-2aa9-4b3b-bf77-6ce99e47f816",
        "colab": {
          "base_uri": "https://localhost:8080/"
        }
      },
      "execution_count": 160,
      "outputs": [
        {
          "output_type": "execute_result",
          "data": {
            "text/plain": [
              "PrintableColumn(items=['abc  ', '-----', '-----'], width=5)"
            ]
          },
          "metadata": {},
          "execution_count": 160
        }
      ]
    },
    {
      "cell_type": "code",
      "source": [
        "Table([PrintableColumn([\"abc\", \"-----\", \"text\"], 5).align_right().align_left()]).print()\n"
      ],
      "metadata": {
        "id": "K8qgkKk8R08J",
        "outputId": "34752f71-2551-4ae1-f677-570dad7b1b2e",
        "colab": {
          "base_uri": "https://localhost:8080/"
        }
      },
      "execution_count": 151,
      "outputs": [
        {
          "output_type": "stream",
          "name": "stdout",
          "text": [
            "  abc\n",
            "-----\n",
            " text\n"
          ]
        }
      ]
    },
    {
      "cell_type": "code",
      "source": [
        "\"abc\".rjust(5), \"{:>5}\".format(\"abc\")\n"
      ],
      "metadata": {
        "colab": {
          "base_uri": "https://localhost:8080/"
        },
        "id": "DwvlKaSZQSUN",
        "outputId": "0b1fbd0d-b24c-4206-8061-0a7863e9b3b0"
      },
      "execution_count": 154,
      "outputs": [
        {
          "output_type": "execute_result",
          "data": {
            "text/plain": [
              "('  abc', '  abc')"
            ]
          },
          "metadata": {},
          "execution_count": 154
        }
      ]
    },
    {
      "cell_type": "code",
      "source": [
        "# 0. Создали условный блокчейн, в котором записываются величины денег и контракты.\n",
        "chain = genesis()\n",
        "\n",
        "# 1. У всех есть пустые кошельки и только у заказчика есть 500 тыс. денежных единиц\n",
        "payer_address = chain.add_wallet(balance=500_000)\n",
        "contractor_address = chain.add_wallet(0)\n",
        "subcontractor_address = chain.add_wallet(0)\n",
        "employee_address = chain.add_wallet(0)\n",
        "who_is_who = dict([(payer_address, \"заказчик\"), (contractor_address, \"исполнитель\"),\n",
        "                   (subcontractor_address, \"субподрядчик\"), (employee_address, \"работник\")])\n",
        "print(\"\\n1. В начале нашего примера деньги есть только у заказчика.\")\n",
        "viewer = Viewer(chain, who_is_who, headers=(\"Адрес\", \"Описание\", \"Остаток\", \"Контракт\"))\n",
        "viewer.print()\n",
        "\n",
        "# 2. Открываем счет эскроу, заказчик перечисляет на него деньги.\n",
        "escrow_address = create_escrow(chain, payer_address, contractor_address, 500_000)\n",
        "who_is_who[escrow_address] = \"адреc эскроу\"\n",
        "print(\"\\n2. Заказчик перевел деньги на счет эксроу.\")\n",
        "viewer.print()\n",
        "\n",
        "# 3. Переводим деньги внутри экроу, сумма на кошельках не меняется.\n",
        "escrow = chain[escrow_address].contract\n",
        "escrow.transfer(contractor_address, subcontractor_address, 160_000)\n",
        "escrow.transfer(contractor_address, employee_address, 40_000)\n",
        "print(\"\\n3. Исполнители провели расчеты внутри эскроу, поменялся контракт эскроу.\")\n",
        "viewer.print()\n",
        "\n",
        "# 4. Раскрываем эскроу по акту работ, переводим деньги исполнителям.\n",
        "escrow.release_funds(payer_address)\n",
        "print(\"\\n4. Заказчик раскрыл аккредитив, поменялся контракт эскроу.\")\n",
        "viewer.print()\n",
        "\n",
        "# 5. Исполнители забирают средства.\n",
        "escrow.withdraw(chain, escrow_address, contractor_address)\n",
        "escrow.withdraw(chain, escrow_address, subcontractor_address)\n",
        "escrow.withdraw(chain, escrow_address, employee_address)\n",
        "print(\"\\n5. Исполнители забрали средства из эскроу, расчеты закончены.\")\n",
        "viewer.print()"
      ],
      "metadata": {
        "colab": {
          "base_uri": "https://localhost:8080/"
        },
        "id": "HXSkmtVtruzX",
        "outputId": "de8bfb49-bdaf-4877-9a4a-b3e2069b600a"
      },
      "execution_count": 165,
      "outputs": [
        {
          "output_type": "stream",
          "name": "stdout",
          "text": [
            "\n",
            "1. В начале нашего примера деньги есть только у заказчика.\n",
            "Адрес | Описание     | Остаток | Контракт\n",
            "----- | ------------ | ------- | --------\n",
            "2e4cf | Заказчик     |  500000 |         \n",
            "18964 | Исполнитель  |       0 |         \n",
            "2c559 | Субподрядчик |       0 |         \n",
            "00728 | Работник     |       0 |         \n",
            "\n",
            "2. Заказчик перевел деньги на счет эксроу.\n",
            "Адрес | Описание     | Остаток | Контракт                                                               \n",
            "----- | ------------ | ------- | --------\n",
            "2e4cf | Заказчик     |       0 |                                                                        \n",
            "18964 | Исполнитель  |       0 |                                                                        \n",
            "2c559 | Субподрядчик |       0 |                                                                        \n",
            "00728 | Работник     |       0 |                                                                        \n",
            "26bf1 | Адреc эскроу |  500000 | Escrow(payer='2e4cf', deposits={'18964': 500000}, allow_withdraw=False)\n",
            "\n",
            "3. Исполнители провели расчеты внутри эскроу, поменялся контракт эскроу.\n",
            "Адрес | Описание     | Остаток | Контракт                                                                                                \n",
            "----- | ------------ | ------- | --------\n",
            "2e4cf | Заказчик     |       0 |                                                                                                         \n",
            "18964 | Исполнитель  |       0 |                                                                                                         \n",
            "2c559 | Субподрядчик |       0 |                                                                                                         \n",
            "00728 | Работник     |       0 |                                                                                                         \n",
            "26bf1 | Адреc эскроу |  500000 | Escrow(payer='2e4cf', deposits={'18964': 300000, '2c559': 160000, '00728': 40000}, allow_withdraw=False)\n",
            "\n",
            "4. Заказчик раскрыл аккредитив, поменялся контракт эскроу.\n",
            "Адрес | Описание     | Остаток | Контракт                                                                                               \n",
            "----- | ------------ | ------- | --------\n",
            "2e4cf | Заказчик     |       0 |                                                                                                        \n",
            "18964 | Исполнитель  |       0 |                                                                                                        \n",
            "2c559 | Субподрядчик |       0 |                                                                                                        \n",
            "00728 | Работник     |       0 |                                                                                                        \n",
            "26bf1 | Адреc эскроу |  500000 | Escrow(payer='2e4cf', deposits={'18964': 300000, '2c559': 160000, '00728': 40000}, allow_withdraw=True)\n",
            "\n",
            "5. Исполнители забрали средства из эскроу, расчеты закончены.\n",
            "Адрес | Описание     | Остаток | Контракт                                                                                 \n",
            "----- | ------------ | ------- | --------\n",
            "2e4cf | Заказчик     |       0 |                                                                                          \n",
            "18964 | Исполнитель  |  300000 |                                                                                          \n",
            "2c559 | Субподрядчик |  160000 |                                                                                          \n",
            "00728 | Работник     |   40000 |                                                                                          \n",
            "26bf1 | Адреc эскроу |       0 | Escrow(payer='2e4cf', deposits={'18964': 0, '2c559': 0, '00728': 0}, allow_withdraw=True)\n"
          ]
        }
      ]
    }
  ]
}